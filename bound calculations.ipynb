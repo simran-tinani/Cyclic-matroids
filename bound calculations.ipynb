def binom_new(n,k):
        if k>=0:
            return binomial(n,k)
        if k==-1 and n>=0:
            return 0
        if k==-1 and n==-1:
            return 1

def bound1(n,k):
    b=1
    m=min(k-1,n-k-1)
    for d in range(0,(m+1)):
        for r in range(1, (d+2)):
            c=(k-d)*binom_new(d-1,r-2)*(floor((n-k-d-1)/(k-r+1))+1)
            b=b+c
    return b

def bound2(n,k):
    l=floor(n/k)-1
    last_card=n-(l+1)*k
    s=1
    for q in range(1,k+1):
        for j in range(0,min(q,last_card)+1):
            for w in range(0,l+1):
                s=s+binom_new((l+2)*k-n,j)*binom_new(k-j,q-j)*binom_new(l,w)*binom_new((q-j-1),(w-1))
    return s
            
def bound3(n,k):
    a= floor((k)/4)+1
    b= (floor(k/2)+2)/3 
    c= floor(log(b,2))
    m=(a+c)*n/gcd(n,k)
    if m> binomial(n,k):
        return m,"error:bound 2 is larger than n choose k"
    else:
        return m  

def bound_max(n,k):
    m1=bound1(n,k)
    m2=bound2(n,k)
    m3=bound3(n,k)
    m11=bound1(n,n-k)
    m22=bound2(n,n-k)
    m33=bound3(n,n-k)
    if gcd(n,k)==1:
        mB=max(ceil(m1/n),ceil(m11/n), ceil(m2/n),ceil(m22/n),ceil(m3/n),ceil(m33/n))*n
    else:
        mB=max(m1,m11,m2,m22,m3,m33)
    return mB

def bounds(n):  # lists of all bounds varying over all values of k
    B1=[]
    B2=[]
    B3=[]
    Bmax=[]
    ks=[]
    for k in range(2,n-1):
        if gcd(n,k)!=0:
            ks.append(k)
            b1=bound1(n,k);  b2=bound2(n,k);  b3=bound3(n,k); bm=bound_max(n,k)
            B1.append(b1)
            B2.append(b2)
            B3.append(b3)
            Bmax.append(bm)
      #  print(b, index) # prints the maximum bound and the index (i.e. the 1st, 2nd or 3rd)
    return [ks,B1,B2,B3, Bmax]

def bounds2(m): # n varies, k is fixed at floor(n/2)
    ks=[]
    B1=[]
    B2=[]
    B3=[]
    Bmax=[]
    for n in range(3,m+1):
        ks.append(n)
        k=floor(n/2)
        b1=bound1(n,k);  b2=bound2(n,k);  b3=bound3(n,k); bm=bound_max(n,k)
        B1.append(b1)
        B2.append(b2)
        B3.append(b3)
        Bmax.append(bm)
      #  print(b, index) # prints the maximum bound and the index (i.e. the 1st, 2nd or 3rd)
    return [ks,B1,B2,B3, Bmax] 

def bounds3(m): # n varies, k is fixed at floor(n/3)
    ks=[]
    B1=[]
    B2=[]
    B3=[]
    Bmax=[]
    for n in range(6,m+1):
        ks.append(n)
        k=floor(n/3)
        b1=bound1(n,k);  b2=bound2(n,k);  b3=bound3(n,k); bm=bound_max(n,k)
        B1.append(b1)
        B2.append(b2)
        B3.append(b3)
        Bmax.append(bm)
    return [ks,B1,B2,B3, Bmax] 

def bounds4(m): # n varies, k is fixed at floor(n/4)
    ks=[]
    B1=[]
    B2=[]
    B3=[]
    Bmax=[]
    for n in range(8,m+1):
        ks.append(n)
        k=floor(n/4)
        b1=bound1(n,k);  b2=bound2(n,k);  b3=bound3(n,k); bm=bound_max(n,k)
        B1.append(b1)
        B2.append(b2)
        B3.append(b3)
        Bmax.append(bm)
    return [ks,B1,B2,B3, Bmax] 

## PLOTS

import matplotlib 
import matplotlib.pyplot as plt

n=20

[ks,B1,B2,B3, Bmax]=bounds(n)
txt = "n="+ str(n)+ ", all new"
neutral,= plt.plot(ks,[n]*(len(ks)),color = "black", marker = "o", linestyle= "-", linewidth =3)
bound11,= plt.plot(ks,B1,color = "b", marker = "o", linestyle= "-", linewidth = 3)
bound22,= plt.plot(ks,B2, color = "g", marker = "o", linestyle= "-", linewidth = 3)
bound33,= plt.plot(ks,B3,color = "yellow", marker = "o", linestyle= "-", linewidth = 3)
#boundmm,= plt.plot(ks,Bmax, color = "r", marker = "o", linestyle= "-", linewidth = 3)
plt.legend([neutral, bound11, bound22, bound33],["n", "m1","m2", "m3"], loc='upper left', bbox_to_anchor=(0.75, 1))
#plt.show()
plt.savefig(txt)
plt.show()

n=30
[ks,B1,B2,B3, Bmax]=bounds2(n)

txt = "n="+ str(n)+ ", all new plot type 2"
neutral,= plt.plot(ks,[n]*(len(ks)),color = "black", marker = "o", linestyle= "-", linewidth =3)
bound11,= plt.plot(ks,B1,color = "b", marker = "o", linestyle= "-", linewidth = 3)
bound22,= plt.plot(ks,B2, color = "g", marker = "o", linestyle= "-", linewidth = 3)
bound33,= plt.plot(ks,B3,color = "yellow", marker = "o", linestyle= "-", linewidth = 3)
#boundmm,= plt.plot(ks,Bmax, color = "r", marker = "o", linestyle= "-", linewidth = 3)
plt.legend([neutral, bound11, bound22, bound33],["n", "m1","m2", "m3"], loc='upper left', bbox_to_anchor=(0.75, 1))
#plt.show()
plt.savefig(txt)
plt.show()

n=20
[ks,B1,B2,B3, Bmax]=bounds3(n)

txt = "n="+ str(n)+ ", all new plot type 3"
neutral,= plt.plot(ks,[n]*(len(ks)),color = "black", marker = "o", linestyle= "-", linewidth =3)
bound11,= plt.plot(ks,B1,color = "b", marker = "o", linestyle= "-", linewidth = 3)
bound22,= plt.plot(ks,B2, color = "g", marker = "o", linestyle= "-", linewidth = 3)
bound33,= plt.plot(ks,B3,color = "yellow", marker = "o", linestyle= "-", linewidth = 3)
#boundmm,= plt.plot(ks,Bmax, color = "r", marker = "o", linestyle= "-", linewidth = 3)
plt.legend([neutral, bound11, bound22, bound33],["n", "m1","m2", "m3"], loc='upper left', bbox_to_anchor=(0.75, 1))
#plt.show()
plt.savefig(txt)
plt.show()
